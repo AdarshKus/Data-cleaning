{
 "cells": [
  {
   "cell_type": "code",
   "execution_count": 1,
   "id": "63cb5961-e4b2-4d8d-abd1-27d7af500e7d",
   "metadata": {},
   "outputs": [],
   "source": [
    "import numpy as np\n",
    "import pandas as pd\n",
    "import matplotlib\n",
    "import matplotlib.pyplot as pp\n",
    "%matplotlib inline"
   ]
  },
  {
   "cell_type": "code",
   "execution_count": 2,
   "id": "8ae64d4a-ada4-4121-aed8-4da33bbf4106",
   "metadata": {},
   "outputs": [
    {
     "data": {
      "text/html": [
       "<div>\n",
       "<style scoped>\n",
       "    .dataframe tbody tr th:only-of-type {\n",
       "        vertical-align: middle;\n",
       "    }\n",
       "\n",
       "    .dataframe tbody tr th {\n",
       "        vertical-align: top;\n",
       "    }\n",
       "\n",
       "    .dataframe thead th {\n",
       "        text-align: right;\n",
       "    }\n",
       "</style>\n",
       "<table border=\"1\" class=\"dataframe\">\n",
       "  <thead>\n",
       "    <tr style=\"text-align: right;\">\n",
       "      <th></th>\n",
       "      <th>Planet</th>\n",
       "      <th>Mass</th>\n",
       "      <th>Diameter</th>\n",
       "      <th>DayLength</th>\n",
       "      <th>SunDistance</th>\n",
       "      <th>OrbitPeriod</th>\n",
       "      <th>OrbitVelocity</th>\n",
       "      <th>Temperature</th>\n",
       "      <th>SurfacePressure</th>\n",
       "      <th>Rings</th>\n",
       "      <th>MagneticField</th>\n",
       "    </tr>\n",
       "  </thead>\n",
       "  <tbody>\n",
       "    <tr>\n",
       "      <th>0</th>\n",
       "      <td>MERCURY</td>\n",
       "      <td>0.3300</td>\n",
       "      <td>4879</td>\n",
       "      <td>4222.6</td>\n",
       "      <td>57.9</td>\n",
       "      <td>88</td>\n",
       "      <td>47.4</td>\n",
       "      <td>167.0</td>\n",
       "      <td>0.00000</td>\n",
       "      <td>No</td>\n",
       "      <td>Yes</td>\n",
       "    </tr>\n",
       "    <tr>\n",
       "      <th>1</th>\n",
       "      <td>VENUS</td>\n",
       "      <td>4.8700</td>\n",
       "      <td>12,104</td>\n",
       "      <td>2802</td>\n",
       "      <td>108.2</td>\n",
       "      <td>224.7</td>\n",
       "      <td>35.0</td>\n",
       "      <td>15.0</td>\n",
       "      <td>92.00000</td>\n",
       "      <td>No</td>\n",
       "      <td>No</td>\n",
       "    </tr>\n",
       "    <tr>\n",
       "      <th>2</th>\n",
       "      <td>EARTH</td>\n",
       "      <td>5.9700</td>\n",
       "      <td>12,756</td>\n",
       "      <td>24</td>\n",
       "      <td>149.6</td>\n",
       "      <td>365.2</td>\n",
       "      <td>29.8</td>\n",
       "      <td>-20.0</td>\n",
       "      <td>1.00000</td>\n",
       "      <td>No</td>\n",
       "      <td>Yes</td>\n",
       "    </tr>\n",
       "    <tr>\n",
       "      <th>3</th>\n",
       "      <td>MOON</td>\n",
       "      <td>0.0730</td>\n",
       "      <td>3475</td>\n",
       "      <td>708.7</td>\n",
       "      <td>NaN</td>\n",
       "      <td>27.3</td>\n",
       "      <td>1.0</td>\n",
       "      <td>-65.0</td>\n",
       "      <td>0.01000</td>\n",
       "      <td>No</td>\n",
       "      <td>No</td>\n",
       "    </tr>\n",
       "    <tr>\n",
       "      <th>4</th>\n",
       "      <td>MARS</td>\n",
       "      <td>0.6420</td>\n",
       "      <td>6792</td>\n",
       "      <td>24.7</td>\n",
       "      <td>227.9</td>\n",
       "      <td>687</td>\n",
       "      <td>24.1</td>\n",
       "      <td>-110.0</td>\n",
       "      <td>NaN</td>\n",
       "      <td>No</td>\n",
       "      <td>No Yes</td>\n",
       "    </tr>\n",
       "    <tr>\n",
       "      <th>5</th>\n",
       "      <td>JUPITER</td>\n",
       "      <td>1898.0000</td>\n",
       "      <td>1,42,984</td>\n",
       "      <td>9.9</td>\n",
       "      <td>778.6</td>\n",
       "      <td>4231</td>\n",
       "      <td>13.1</td>\n",
       "      <td>-140.0</td>\n",
       "      <td>NaN</td>\n",
       "      <td>Yes</td>\n",
       "      <td>Yes</td>\n",
       "    </tr>\n",
       "    <tr>\n",
       "      <th>6</th>\n",
       "      <td>SATURN</td>\n",
       "      <td>568.0000</td>\n",
       "      <td>1,20,536</td>\n",
       "      <td>10,7</td>\n",
       "      <td>1433.5</td>\n",
       "      <td>10,747</td>\n",
       "      <td>5.4</td>\n",
       "      <td>-195.0</td>\n",
       "      <td>NaN</td>\n",
       "      <td>Yes</td>\n",
       "      <td>Yes</td>\n",
       "    </tr>\n",
       "    <tr>\n",
       "      <th>7</th>\n",
       "      <td>URANUS</td>\n",
       "      <td>86.8000</td>\n",
       "      <td>51,118</td>\n",
       "      <td>17.2</td>\n",
       "      <td>2872.5</td>\n",
       "      <td>30,589</td>\n",
       "      <td>4.7</td>\n",
       "      <td>-200.0</td>\n",
       "      <td>NaN</td>\n",
       "      <td>Yes</td>\n",
       "      <td>Yes</td>\n",
       "    </tr>\n",
       "    <tr>\n",
       "      <th>8</th>\n",
       "      <td>NEPTUNE</td>\n",
       "      <td>102.0000</td>\n",
       "      <td>49,528</td>\n",
       "      <td>16.1</td>\n",
       "      <td>4495.1</td>\n",
       "      <td>59,800</td>\n",
       "      <td>NaN</td>\n",
       "      <td>-225.0</td>\n",
       "      <td>0.00001</td>\n",
       "      <td>Yes</td>\n",
       "      <td>NaN</td>\n",
       "    </tr>\n",
       "    <tr>\n",
       "      <th>9</th>\n",
       "      <td>PLUTO</td>\n",
       "      <td>0.0146</td>\n",
       "      <td>2370</td>\n",
       "      <td>153.3</td>\n",
       "      <td>5906.4</td>\n",
       "      <td>NaN</td>\n",
       "      <td>NaN</td>\n",
       "      <td>NaN</td>\n",
       "      <td>NaN</td>\n",
       "      <td>NaN</td>\n",
       "      <td>NaN</td>\n",
       "    </tr>\n",
       "  </tbody>\n",
       "</table>\n",
       "</div>"
      ],
      "text/plain": [
       "     Planet       Mass  Diameter DayLength  SunDistance OrbitPeriod  \\\n",
       "0   MERCURY     0.3300      4879    4222.6         57.9          88   \n",
       "1    VENUS      4.8700    12,104      2802        108.2       224.7   \n",
       "2     EARTH     5.9700    12,756        24        149.6       365.2   \n",
       "3     MOON      0.0730      3475     708.7          NaN        27.3   \n",
       "4      MARS     0.6420      6792      24.7        227.9         687   \n",
       "5  JUPITER   1898.0000  1,42,984       9.9        778.6        4231   \n",
       "6   SATURN    568.0000  1,20,536      10,7       1433.5      10,747   \n",
       "7    URANUS    86.8000    51,118      17.2       2872.5      30,589   \n",
       "8   NEPTUNE   102.0000    49,528      16.1       4495.1      59,800   \n",
       "9     PLUTO     0.0146      2370     153.3       5906.4         NaN   \n",
       "\n",
       "   OrbitVelocity  Temperature   SurfacePressure Rings MagneticField  \n",
       "0           47.4         167.0          0.00000    No           Yes  \n",
       "1           35.0          15.0         92.00000    No            No  \n",
       "2           29.8         -20.0          1.00000    No           Yes  \n",
       "3            1.0         -65.0          0.01000    No            No  \n",
       "4           24.1        -110.0              NaN    No        No Yes  \n",
       "5           13.1        -140.0              NaN   Yes           Yes  \n",
       "6            5.4        -195.0              NaN   Yes           Yes  \n",
       "7            4.7        -200.0              NaN   Yes           Yes  \n",
       "8            NaN        -225.0          0.00001   Yes           NaN  \n",
       "9            NaN           NaN              NaN   NaN           NaN  "
      ]
     },
     "execution_count": 2,
     "metadata": {},
     "output_type": "execute_result"
    }
   ],
   "source": [
    "planets = pd. read_csv ('Planets.csv')\n",
    "planets"
   ]
  },
  {
   "cell_type": "code",
   "execution_count": 6,
   "id": "b31c8a6d-b728-4e60-8a0d-23e5897bcaa2",
   "metadata": {},
   "outputs": [
    {
     "name": "stdout",
     "output_type": "stream",
     "text": [
      "     Planet       Mass  Diameter OrbitPeriod\n",
      "0   MERCURY     0.3300      4879          88\n",
      "1    VENUS      4.8700    12,104       224.7\n",
      "2     EARTH     5.9700    12,756       365.2\n",
      "3     MOON      0.0730      3475        27.3\n",
      "4      MARS     0.6420      6792         687\n",
      "5  JUPITER   1898.0000  1,42,984        4231\n",
      "6   SATURN    568.0000  1,20,536      10,747\n",
      "7    URANUS    86.8000    51,118      30,589\n",
      "8   NEPTUNE   102.0000    49,528      59,800\n",
      "9     PLUTO     0.0146      2370         NaN\n"
     ]
    }
   ],
   "source": [
    "import pandas as pd\n",
    "\n",
    "planets = pd.read_csv('Planets.csv', usecols=[0, 1, 2, 5])\n",
    "\n",
    "print(planets)"
   ]
  },
  {
   "cell_type": "code",
   "execution_count": 7,
   "id": "eda3d792-9c8b-4b56-aa5a-29e5a275b116",
   "metadata": {},
   "outputs": [
    {
     "data": {
      "text/plain": [
       "0       0.3300\n",
       "1       4.8700\n",
       "2       5.9700\n",
       "3       0.0730\n",
       "4       0.6420\n",
       "5    1898.0000\n",
       "6     568.0000\n",
       "7      86.8000\n",
       "8     102.0000\n",
       "9       0.0146\n",
       "Name: Mass, dtype: float64"
      ]
     },
     "execution_count": 7,
     "metadata": {},
     "output_type": "execute_result"
    }
   ],
   "source": [
    "planets ['Mass']"
   ]
  },
  {
   "cell_type": "code",
   "execution_count": 8,
   "id": "3bfbe67a-a81f-4251-8aea-8c862801504f",
   "metadata": {},
   "outputs": [
    {
     "data": {
      "text/plain": [
       "0       0.3300\n",
       "1       4.8700\n",
       "2       5.9700\n",
       "3       0.0730\n",
       "4       0.6420\n",
       "5    1898.0000\n",
       "6     568.0000\n",
       "7      86.8000\n",
       "8     102.0000\n",
       "9       0.0146\n",
       "Name: Mass, dtype: float64"
      ]
     },
     "execution_count": 8,
     "metadata": {},
     "output_type": "execute_result"
    }
   ],
   "source": [
    "planets. Mass"
   ]
  },
  {
   "cell_type": "code",
   "execution_count": 11,
   "id": "4949463f-46c6-4744-9aa0-7070937301d9",
   "metadata": {},
   "outputs": [
    {
     "data": {
      "text/plain": [
       "RangeIndex(start=0, stop=10, step=1)"
      ]
     },
     "execution_count": 11,
     "metadata": {},
     "output_type": "execute_result"
    }
   ],
   "source": [
    "planets.index"
   ]
  },
  {
   "cell_type": "code",
   "execution_count": 15,
   "id": "44b8ba92-7011-4c83-8f32-1d4c41d6f97c",
   "metadata": {},
   "outputs": [
    {
     "data": {
      "text/plain": [
       "Planet         JUPITER \n",
       "Mass             1898.0\n",
       "Diameter       1,42,984\n",
       "OrbitPeriod        4231\n",
       "Name: 5, dtype: object"
      ]
     },
     "execution_count": 15,
     "metadata": {},
     "output_type": "execute_result"
    }
   ],
   "source": [
    "planets. loc [5]"
   ]
  },
  {
   "cell_type": "code",
   "execution_count": 16,
   "id": "80de174e-6c1c-4b8f-bde2-600f2062e892",
   "metadata": {},
   "outputs": [
    {
     "data": {
      "text/html": [
       "<div>\n",
       "<style scoped>\n",
       "    .dataframe tbody tr th:only-of-type {\n",
       "        vertical-align: middle;\n",
       "    }\n",
       "\n",
       "    .dataframe tbody tr th {\n",
       "        vertical-align: top;\n",
       "    }\n",
       "\n",
       "    .dataframe thead th {\n",
       "        text-align: right;\n",
       "    }\n",
       "</style>\n",
       "<table border=\"1\" class=\"dataframe\">\n",
       "  <thead>\n",
       "    <tr style=\"text-align: right;\">\n",
       "      <th></th>\n",
       "      <th>Mass</th>\n",
       "      <th>Diameter</th>\n",
       "      <th>OrbitPeriod</th>\n",
       "    </tr>\n",
       "    <tr>\n",
       "      <th>Planet</th>\n",
       "      <th></th>\n",
       "      <th></th>\n",
       "      <th></th>\n",
       "    </tr>\n",
       "  </thead>\n",
       "  <tbody>\n",
       "    <tr>\n",
       "      <th>MERCURY</th>\n",
       "      <td>0.3300</td>\n",
       "      <td>4879</td>\n",
       "      <td>88</td>\n",
       "    </tr>\n",
       "    <tr>\n",
       "      <th>VENUS</th>\n",
       "      <td>4.8700</td>\n",
       "      <td>12,104</td>\n",
       "      <td>224.7</td>\n",
       "    </tr>\n",
       "    <tr>\n",
       "      <th>EARTH</th>\n",
       "      <td>5.9700</td>\n",
       "      <td>12,756</td>\n",
       "      <td>365.2</td>\n",
       "    </tr>\n",
       "    <tr>\n",
       "      <th>MOON</th>\n",
       "      <td>0.0730</td>\n",
       "      <td>3475</td>\n",
       "      <td>27.3</td>\n",
       "    </tr>\n",
       "    <tr>\n",
       "      <th>MARS</th>\n",
       "      <td>0.6420</td>\n",
       "      <td>6792</td>\n",
       "      <td>687</td>\n",
       "    </tr>\n",
       "    <tr>\n",
       "      <th>JUPITER</th>\n",
       "      <td>1898.0000</td>\n",
       "      <td>1,42,984</td>\n",
       "      <td>4231</td>\n",
       "    </tr>\n",
       "    <tr>\n",
       "      <th>SATURN</th>\n",
       "      <td>568.0000</td>\n",
       "      <td>1,20,536</td>\n",
       "      <td>10,747</td>\n",
       "    </tr>\n",
       "    <tr>\n",
       "      <th>URANUS</th>\n",
       "      <td>86.8000</td>\n",
       "      <td>51,118</td>\n",
       "      <td>30,589</td>\n",
       "    </tr>\n",
       "    <tr>\n",
       "      <th>NEPTUNE</th>\n",
       "      <td>102.0000</td>\n",
       "      <td>49,528</td>\n",
       "      <td>59,800</td>\n",
       "    </tr>\n",
       "    <tr>\n",
       "      <th>PLUTO</th>\n",
       "      <td>0.0146</td>\n",
       "      <td>2370</td>\n",
       "      <td>NaN</td>\n",
       "    </tr>\n",
       "  </tbody>\n",
       "</table>\n",
       "</div>"
      ],
      "text/plain": [
       "               Mass  Diameter OrbitPeriod\n",
       "Planet                                   \n",
       "MERCURY      0.3300      4879          88\n",
       "VENUS        4.8700    12,104       224.7\n",
       "EARTH        5.9700    12,756       365.2\n",
       "MOON         0.0730      3475        27.3\n",
       "MARS         0.6420      6792         687\n",
       "JUPITER   1898.0000  1,42,984        4231\n",
       "SATURN     568.0000  1,20,536      10,747\n",
       "URANUS      86.8000    51,118      30,589\n",
       "NEPTUNE    102.0000    49,528      59,800\n",
       "PLUTO        0.0146      2370         NaN"
      ]
     },
     "execution_count": 16,
     "metadata": {},
     "output_type": "execute_result"
    }
   ],
   "source": [
    "planets.set_index ('Planet')"
   ]
  },
  {
   "cell_type": "code",
   "execution_count": 17,
   "id": "23e96b50-3b49-4fc4-bf12-ccd976c009e7",
   "metadata": {},
   "outputs": [
    {
     "name": "stdout",
     "output_type": "stream",
     "text": [
      "<class 'pandas.core.frame.DataFrame'>\n",
      "RangeIndex: 10 entries, 0 to 9\n",
      "Data columns (total 4 columns):\n",
      " #   Column       Non-Null Count  Dtype  \n",
      "---  ------       --------------  -----  \n",
      " 0   Planet       10 non-null     object \n",
      " 1   Mass         10 non-null     float64\n",
      " 2   Diameter     10 non-null     object \n",
      " 3   OrbitPeriod  9 non-null      object \n",
      "dtypes: float64(1), object(3)\n",
      "memory usage: 448.0+ bytes\n"
     ]
    }
   ],
   "source": [
    "planets.info()"
   ]
  },
  {
   "cell_type": "code",
   "execution_count": 21,
   "id": "4ec3a954-a9ea-4492-942f-b170ac3b6182",
   "metadata": {},
   "outputs": [
    {
     "ename": "KeyError",
     "evalue": "'VENUS'",
     "output_type": "error",
     "traceback": [
      "\u001b[1;31m---------------------------------------------------------------------------\u001b[0m",
      "\u001b[1;31mKeyError\u001b[0m                                  Traceback (most recent call last)",
      "\u001b[1;32m~\\AppData\\Local\\Temp\\ipykernel_22420\\76083903.py\u001b[0m in \u001b[0;36m<module>\u001b[1;34m\u001b[0m\n\u001b[1;32m----> 1\u001b[1;33m \u001b[0mplanets\u001b[0m\u001b[1;33m.\u001b[0m\u001b[0mloc\u001b[0m\u001b[1;33m[\u001b[0m\u001b[1;34m'VENUS'\u001b[0m\u001b[1;33m]\u001b[0m\u001b[1;33m\u001b[0m\u001b[1;33m\u001b[0m\u001b[0m\n\u001b[0m",
      "\u001b[1;32m~\\anaconda3\\lib\\site-packages\\pandas\\core\\indexing.py\u001b[0m in \u001b[0;36m__getitem__\u001b[1;34m(self, key)\u001b[0m\n\u001b[0;32m    965\u001b[0m \u001b[1;33m\u001b[0m\u001b[0m\n\u001b[0;32m    966\u001b[0m             \u001b[0mmaybe_callable\u001b[0m \u001b[1;33m=\u001b[0m \u001b[0mcom\u001b[0m\u001b[1;33m.\u001b[0m\u001b[0mapply_if_callable\u001b[0m\u001b[1;33m(\u001b[0m\u001b[0mkey\u001b[0m\u001b[1;33m,\u001b[0m \u001b[0mself\u001b[0m\u001b[1;33m.\u001b[0m\u001b[0mobj\u001b[0m\u001b[1;33m)\u001b[0m\u001b[1;33m\u001b[0m\u001b[1;33m\u001b[0m\u001b[0m\n\u001b[1;32m--> 967\u001b[1;33m             \u001b[1;32mreturn\u001b[0m \u001b[0mself\u001b[0m\u001b[1;33m.\u001b[0m\u001b[0m_getitem_axis\u001b[0m\u001b[1;33m(\u001b[0m\u001b[0mmaybe_callable\u001b[0m\u001b[1;33m,\u001b[0m \u001b[0maxis\u001b[0m\u001b[1;33m=\u001b[0m\u001b[0maxis\u001b[0m\u001b[1;33m)\u001b[0m\u001b[1;33m\u001b[0m\u001b[1;33m\u001b[0m\u001b[0m\n\u001b[0m\u001b[0;32m    968\u001b[0m \u001b[1;33m\u001b[0m\u001b[0m\n\u001b[0;32m    969\u001b[0m     \u001b[1;32mdef\u001b[0m \u001b[0m_is_scalar_access\u001b[0m\u001b[1;33m(\u001b[0m\u001b[0mself\u001b[0m\u001b[1;33m,\u001b[0m \u001b[0mkey\u001b[0m\u001b[1;33m:\u001b[0m \u001b[0mtuple\u001b[0m\u001b[1;33m)\u001b[0m\u001b[1;33m:\u001b[0m\u001b[1;33m\u001b[0m\u001b[1;33m\u001b[0m\u001b[0m\n",
      "\u001b[1;32m~\\anaconda3\\lib\\site-packages\\pandas\\core\\indexing.py\u001b[0m in \u001b[0;36m_getitem_axis\u001b[1;34m(self, key, axis)\u001b[0m\n\u001b[0;32m   1203\u001b[0m         \u001b[1;31m# fall thru to straight lookup\u001b[0m\u001b[1;33m\u001b[0m\u001b[1;33m\u001b[0m\u001b[0m\n\u001b[0;32m   1204\u001b[0m         \u001b[0mself\u001b[0m\u001b[1;33m.\u001b[0m\u001b[0m_validate_key\u001b[0m\u001b[1;33m(\u001b[0m\u001b[0mkey\u001b[0m\u001b[1;33m,\u001b[0m \u001b[0maxis\u001b[0m\u001b[1;33m)\u001b[0m\u001b[1;33m\u001b[0m\u001b[1;33m\u001b[0m\u001b[0m\n\u001b[1;32m-> 1205\u001b[1;33m         \u001b[1;32mreturn\u001b[0m \u001b[0mself\u001b[0m\u001b[1;33m.\u001b[0m\u001b[0m_get_label\u001b[0m\u001b[1;33m(\u001b[0m\u001b[0mkey\u001b[0m\u001b[1;33m,\u001b[0m \u001b[0maxis\u001b[0m\u001b[1;33m=\u001b[0m\u001b[0maxis\u001b[0m\u001b[1;33m)\u001b[0m\u001b[1;33m\u001b[0m\u001b[1;33m\u001b[0m\u001b[0m\n\u001b[0m\u001b[0;32m   1206\u001b[0m \u001b[1;33m\u001b[0m\u001b[0m\n\u001b[0;32m   1207\u001b[0m     \u001b[1;32mdef\u001b[0m \u001b[0m_get_slice_axis\u001b[0m\u001b[1;33m(\u001b[0m\u001b[0mself\u001b[0m\u001b[1;33m,\u001b[0m \u001b[0mslice_obj\u001b[0m\u001b[1;33m:\u001b[0m \u001b[0mslice\u001b[0m\u001b[1;33m,\u001b[0m \u001b[0maxis\u001b[0m\u001b[1;33m:\u001b[0m \u001b[0mint\u001b[0m\u001b[1;33m)\u001b[0m\u001b[1;33m:\u001b[0m\u001b[1;33m\u001b[0m\u001b[1;33m\u001b[0m\u001b[0m\n",
      "\u001b[1;32m~\\anaconda3\\lib\\site-packages\\pandas\\core\\indexing.py\u001b[0m in \u001b[0;36m_get_label\u001b[1;34m(self, label, axis)\u001b[0m\n\u001b[0;32m   1151\u001b[0m     \u001b[1;32mdef\u001b[0m \u001b[0m_get_label\u001b[0m\u001b[1;33m(\u001b[0m\u001b[0mself\u001b[0m\u001b[1;33m,\u001b[0m \u001b[0mlabel\u001b[0m\u001b[1;33m,\u001b[0m \u001b[0maxis\u001b[0m\u001b[1;33m:\u001b[0m \u001b[0mint\u001b[0m\u001b[1;33m)\u001b[0m\u001b[1;33m:\u001b[0m\u001b[1;33m\u001b[0m\u001b[1;33m\u001b[0m\u001b[0m\n\u001b[0;32m   1152\u001b[0m         \u001b[1;31m# GH#5667 this will fail if the label is not present in the axis.\u001b[0m\u001b[1;33m\u001b[0m\u001b[1;33m\u001b[0m\u001b[0m\n\u001b[1;32m-> 1153\u001b[1;33m         \u001b[1;32mreturn\u001b[0m \u001b[0mself\u001b[0m\u001b[1;33m.\u001b[0m\u001b[0mobj\u001b[0m\u001b[1;33m.\u001b[0m\u001b[0mxs\u001b[0m\u001b[1;33m(\u001b[0m\u001b[0mlabel\u001b[0m\u001b[1;33m,\u001b[0m \u001b[0maxis\u001b[0m\u001b[1;33m=\u001b[0m\u001b[0maxis\u001b[0m\u001b[1;33m)\u001b[0m\u001b[1;33m\u001b[0m\u001b[1;33m\u001b[0m\u001b[0m\n\u001b[0m\u001b[0;32m   1154\u001b[0m \u001b[1;33m\u001b[0m\u001b[0m\n\u001b[0;32m   1155\u001b[0m     \u001b[1;32mdef\u001b[0m \u001b[0m_handle_lowerdim_multi_index_axis0\u001b[0m\u001b[1;33m(\u001b[0m\u001b[0mself\u001b[0m\u001b[1;33m,\u001b[0m \u001b[0mtup\u001b[0m\u001b[1;33m:\u001b[0m \u001b[0mtuple\u001b[0m\u001b[1;33m)\u001b[0m\u001b[1;33m:\u001b[0m\u001b[1;33m\u001b[0m\u001b[1;33m\u001b[0m\u001b[0m\n",
      "\u001b[1;32m~\\anaconda3\\lib\\site-packages\\pandas\\core\\generic.py\u001b[0m in \u001b[0;36mxs\u001b[1;34m(self, key, axis, level, drop_level)\u001b[0m\n\u001b[0;32m   3862\u001b[0m                     \u001b[0mnew_index\u001b[0m \u001b[1;33m=\u001b[0m \u001b[0mindex\u001b[0m\u001b[1;33m[\u001b[0m\u001b[0mloc\u001b[0m\u001b[1;33m]\u001b[0m\u001b[1;33m\u001b[0m\u001b[1;33m\u001b[0m\u001b[0m\n\u001b[0;32m   3863\u001b[0m         \u001b[1;32melse\u001b[0m\u001b[1;33m:\u001b[0m\u001b[1;33m\u001b[0m\u001b[1;33m\u001b[0m\u001b[0m\n\u001b[1;32m-> 3864\u001b[1;33m             \u001b[0mloc\u001b[0m \u001b[1;33m=\u001b[0m \u001b[0mindex\u001b[0m\u001b[1;33m.\u001b[0m\u001b[0mget_loc\u001b[0m\u001b[1;33m(\u001b[0m\u001b[0mkey\u001b[0m\u001b[1;33m)\u001b[0m\u001b[1;33m\u001b[0m\u001b[1;33m\u001b[0m\u001b[0m\n\u001b[0m\u001b[0;32m   3865\u001b[0m \u001b[1;33m\u001b[0m\u001b[0m\n\u001b[0;32m   3866\u001b[0m             \u001b[1;32mif\u001b[0m \u001b[0misinstance\u001b[0m\u001b[1;33m(\u001b[0m\u001b[0mloc\u001b[0m\u001b[1;33m,\u001b[0m \u001b[0mnp\u001b[0m\u001b[1;33m.\u001b[0m\u001b[0mndarray\u001b[0m\u001b[1;33m)\u001b[0m\u001b[1;33m:\u001b[0m\u001b[1;33m\u001b[0m\u001b[1;33m\u001b[0m\u001b[0m\n",
      "\u001b[1;32m~\\anaconda3\\lib\\site-packages\\pandas\\core\\indexes\\range.py\u001b[0m in \u001b[0;36mget_loc\u001b[1;34m(self, key, method, tolerance)\u001b[0m\n\u001b[0;32m    387\u001b[0m                     \u001b[1;32mraise\u001b[0m \u001b[0mKeyError\u001b[0m\u001b[1;33m(\u001b[0m\u001b[0mkey\u001b[0m\u001b[1;33m)\u001b[0m \u001b[1;32mfrom\u001b[0m \u001b[0merr\u001b[0m\u001b[1;33m\u001b[0m\u001b[1;33m\u001b[0m\u001b[0m\n\u001b[0;32m    388\u001b[0m             \u001b[0mself\u001b[0m\u001b[1;33m.\u001b[0m\u001b[0m_check_indexing_error\u001b[0m\u001b[1;33m(\u001b[0m\u001b[0mkey\u001b[0m\u001b[1;33m)\u001b[0m\u001b[1;33m\u001b[0m\u001b[1;33m\u001b[0m\u001b[0m\n\u001b[1;32m--> 389\u001b[1;33m             \u001b[1;32mraise\u001b[0m \u001b[0mKeyError\u001b[0m\u001b[1;33m(\u001b[0m\u001b[0mkey\u001b[0m\u001b[1;33m)\u001b[0m\u001b[1;33m\u001b[0m\u001b[1;33m\u001b[0m\u001b[0m\n\u001b[0m\u001b[0;32m    390\u001b[0m         \u001b[1;32mreturn\u001b[0m \u001b[0msuper\u001b[0m\u001b[1;33m(\u001b[0m\u001b[1;33m)\u001b[0m\u001b[1;33m.\u001b[0m\u001b[0mget_loc\u001b[0m\u001b[1;33m(\u001b[0m\u001b[0mkey\u001b[0m\u001b[1;33m,\u001b[0m \u001b[0mmethod\u001b[0m\u001b[1;33m=\u001b[0m\u001b[0mmethod\u001b[0m\u001b[1;33m,\u001b[0m \u001b[0mtolerance\u001b[0m\u001b[1;33m=\u001b[0m\u001b[0mtolerance\u001b[0m\u001b[1;33m)\u001b[0m\u001b[1;33m\u001b[0m\u001b[1;33m\u001b[0m\u001b[0m\n\u001b[0;32m    391\u001b[0m \u001b[1;33m\u001b[0m\u001b[0m\n",
      "\u001b[1;31mKeyError\u001b[0m: 'VENUS'"
     ]
    }
   ],
   "source": [
    "planets.loc['VENUS']"
   ]
  },
  {
   "cell_type": "code",
   "execution_count": null,
   "id": "f43de027-f1ea-4dbb-86ca-8fce78b7b982",
   "metadata": {},
   "outputs": [],
   "source": []
  }
 ],
 "metadata": {
  "kernelspec": {
   "display_name": "Python 3 (ipykernel)",
   "language": "python",
   "name": "python3"
  },
  "language_info": {
   "codemirror_mode": {
    "name": "ipython",
    "version": 3
   },
   "file_extension": ".py",
   "mimetype": "text/x-python",
   "name": "python",
   "nbconvert_exporter": "python",
   "pygments_lexer": "ipython3",
   "version": "3.9.13"
  }
 },
 "nbformat": 4,
 "nbformat_minor": 5
}
